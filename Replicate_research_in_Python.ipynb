{
 "cells": [
  {
   "cell_type": "code",
   "execution_count": 1,
   "id": "2e4c6b4f",
   "metadata": {},
   "outputs": [],
   "source": [
    "#Installation of extra package required:\n",
    "#conda install -c anaconda py-xgboost"
   ]
  },
  {
   "cell_type": "code",
   "execution_count": 2,
   "id": "606ae70b",
   "metadata": {},
   "outputs": [],
   "source": [
    "import numpy as np\n",
    "import pandas as pd\n",
    "import matplotlib.pyplot as plt\n",
    "import seaborn as sns\n",
    "from sklearn.model_selection import cross_val_score, train_test_split, RandomizedSearchCV\n",
    "from sklearn.metrics import confusion_matrix, zero_one_loss, accuracy_score, precision_score\n",
    "from sklearn.metrics import recall_score, f1_score, roc_auc_score, auc, matthews_corrcoef\n",
    "from sklearn.metrics import roc_curve, average_precision_score, precision_recall_curve, classification_report\n",
    "from sklearn.preprocessing import MinMaxScaler, StandardScaler, RobustScaler\n",
    "from sklearn.feature_selection import RFE\n",
    "\n",
    "from imblearn.over_sampling import SMOTE \n",
    "\n",
    "import warnings\n",
    "warnings.filterwarnings('ignore')\n",
    "\n",
    "from sklearn.ensemble import RandomForestClassifier, BaggingClassifier, VotingClassifier\n",
    "from sklearn.ensemble import AdaBoostClassifier, GradientBoostingClassifier, StackingClassifier\n",
    "from sklearn.tree import DecisionTreeClassifier\n",
    "import xgboost as xgb\n",
    "from sklearn.linear_model import RidgeClassifier, LogisticRegression\n",
    "from mlxtend.classifier import OneRClassifier\n",
    "from sklearn.naive_bayes import GaussianNB\n",
    "from sklearn.neural_network import MLPClassifier\n",
    "from sklearn.svm import SVC, LinearSVC\n",
    "from sklearn.neighbors import KNeighborsClassifier\n",
    "from xgboost import XGBClassifier\n",
    "from lightgbm import LGBMClassifier"
   ]
  },
  {
   "cell_type": "markdown",
   "id": "cde114bc",
   "metadata": {},
   "source": [
    "# Task 1\n",
    "***"
   ]
  },
  {
   "cell_type": "code",
   "execution_count": 3,
   "id": "c3ccb4fb",
   "metadata": {},
   "outputs": [],
   "source": [
    "#Import the csv into a pandas dataframe\n",
    "dataset = pd.read_csv(\"heart_failure_clinical_records_dataset.csv\", header=0)\n",
    "X = dataset.drop(['DEATH_EVENT', 'time'], axis=1)\n",
    "y = dataset['DEATH_EVENT']"
   ]
  },
  {
   "cell_type": "code",
   "execution_count": 4,
   "id": "3e6dfcf6",
   "metadata": {},
   "outputs": [
    {
     "name": "stdout",
     "output_type": "stream",
     "text": [
      "<class 'pandas.core.frame.DataFrame'>\n",
      "RangeIndex: 299 entries, 0 to 298\n",
      "Data columns (total 13 columns):\n",
      " #   Column                    Non-Null Count  Dtype  \n",
      "---  ------                    --------------  -----  \n",
      " 0   age                       299 non-null    float64\n",
      " 1   anaemia                   299 non-null    int64  \n",
      " 2   creatinine_phosphokinase  299 non-null    int64  \n",
      " 3   diabetes                  299 non-null    int64  \n",
      " 4   ejection_fraction         299 non-null    int64  \n",
      " 5   high_blood_pressure       299 non-null    int64  \n",
      " 6   platelets                 299 non-null    float64\n",
      " 7   serum_creatinine          299 non-null    float64\n",
      " 8   serum_sodium              299 non-null    int64  \n",
      " 9   sex                       299 non-null    int64  \n",
      " 10  smoking                   299 non-null    int64  \n",
      " 11  time                      299 non-null    int64  \n",
      " 12  DEATH_EVENT               299 non-null    int64  \n",
      "dtypes: float64(3), int64(10)\n",
      "memory usage: 30.5 KB\n"
     ]
    }
   ],
   "source": [
    "dataset.info()"
   ]
  },
  {
   "cell_type": "code",
   "execution_count": 5,
   "id": "b4ccf1aa",
   "metadata": {},
   "outputs": [],
   "source": [
    "#Create different functions to handle repitition of the various classifiers.\n",
    "repeat = 100\n",
    "\n",
    "def run_model(InClf):\n",
    "    accuracy_agg = 0\n",
    "    f1_agg = 0\n",
    "    MCC_agg = 0\n",
    "    TP_agg = 0\n",
    "    TN_agg = 0\n",
    "    ROC_AUC_agg = 0\n",
    "    PR_AUC_agg = 0\n",
    "    for x in range(repeat):\n",
    "        X_train, X_test, y_train, y_test = train_test_split(X, y, test_size=0.2, stratify=y)\n",
    "        \n",
    "        InClf.fit(X_train.values, y_train)\n",
    "        y_pred = InClf.predict(X_test.values)\n",
    "\n",
    "        accuracy_agg = accuracy_agg + accuracy_score(y_test, y_pred)\n",
    "        f1_agg = f1_agg + f1_score(y_test, y_pred)\n",
    "        MCC_agg = MCC_agg + matthews_corrcoef(y_test, y_pred)\n",
    "        precision_auc, recall_auc, thresholds = precision_recall_curve(y_test, y_pred)\n",
    "        PR_AUC_agg = PR_AUC_agg + auc(recall_auc, precision_auc)\n",
    "        y_roc = InClf.predict_proba(X_test.values)\n",
    "        y_roc = y_roc[:,1]\n",
    "        ROC_AUC_agg = ROC_AUC_agg + roc_auc_score(y_test, y_roc)\n",
    "        \n",
    "        CM = pd.DataFrame(confusion_matrix(y_test, y_pred))\n",
    "        TP_agg = TP_agg + CM[1][1] / (CM[1][1] + CM[0][1])\n",
    "        TN_agg = TN_agg + (CM[0][0]) / (CM[0][0] + CM[1][0])\n",
    "\n",
    "    print(\"MCC:\", MCC_agg/repeat)\n",
    "    print(\"F1 score:\", f1_agg/repeat)\n",
    "    print(\"Accuracy:\", accuracy_agg/repeat)\n",
    "    print(\"TP:\", TP_agg/repeat)\n",
    "    print(\"TN:\", TN_agg/repeat)\n",
    "    print(\"PR AUC:\", PR_AUC_agg/repeat)\n",
    "    print(\"ROC AUC\", ROC_AUC_agg/repeat)\n",
    "    print(\"\")\n",
    "    \n",
    "def run_tuned_model(InClf):\n",
    "    accuracy_agg = 0\n",
    "    f1_agg = 0\n",
    "    MCC_agg = 0\n",
    "    TP_agg = 0\n",
    "    TN_agg = 0\n",
    "    ROC_AUC_agg = 0\n",
    "    PR_AUC_agg = 0\n",
    "    \n",
    "    MMS = StandardScaler()\n",
    "    \n",
    "    for x in range(repeat):\n",
    "        X_train, X_test, y_train, y_test = train_test_split(X, y, test_size=0.2, stratify=y)\n",
    "        InClf.fit(X_train.values, y_train)\n",
    "        y_pred = clf.predict(X_test.values)\n",
    "        \n",
    "        X_train, X_test, y_train, y_test = train_test_split(X, y, test_size=0.4, stratify=y)\n",
    "        X_test, X_validate, y_test, y_validate = train_test_split(X_test, y_test, test_size = .5, stratify=y_test) \n",
    "        MMS.fit(X_train)\n",
    "        X_train = MMS.transform(X_train)\n",
    "        X_test = MMS.transform(X_test)\n",
    "        InClf.fit(X_train, y_train)\n",
    "        y_pred = InClf.predict(X_test)\n",
    "\n",
    "        accuracy_agg = accuracy_agg + accuracy_score(y_test, y_pred)\n",
    "        f1_agg = f1_agg + f1_score(y_test, y_pred)\n",
    "        MCC_agg = MCC_agg + matthews_corrcoef(y_test, y_pred)\n",
    "        precision_auc, recall_auc, thresholds = precision_recall_curve(y_test, y_pred)\n",
    "        PR_AUC_agg = PR_AUC_agg + auc(recall_auc, precision_auc)\n",
    "        y_roc = InClf.predict_proba(X_test)\n",
    "        y_roc = y_roc[:,1]\n",
    "        ROC_AUC_agg = ROC_AUC_agg + roc_auc_score(y_test, y_roc)\n",
    "        CM = pd.DataFrame(confusion_matrix(y_test, y_pred))\n",
    "        TP_agg = TP_agg + CM[1][1] / (CM[1][1] + CM[0][1])\n",
    "        TN_agg = TN_agg + (CM[0][0]) / (CM[0][0] + CM[1][0])\n",
    "\n",
    "    print(\"MCC:\", MCC_agg/repeat)\n",
    "    print(\"F1 score:\", f1_agg/repeat)\n",
    "    print(\"Accuracy:\", accuracy_agg/repeat)\n",
    "    print(\"TP:\", TP_agg/repeat)\n",
    "    print(\"TN:\", TN_agg/repeat)\n",
    "    print(\"PR AUC:\", PR_AUC_agg/repeat)\n",
    "    print(\"ROC AUC\", ROC_AUC_agg/repeat)\n",
    "    print(\"\")\n",
    "    \n",
    "def run_model_alt_ROC(InClf):\n",
    "    accuracy_agg = 0\n",
    "    f1_agg = 0\n",
    "    MCC_agg = 0\n",
    "    TP_agg = 0\n",
    "    TN_agg = 0\n",
    "    ROC_AUC_agg = 0\n",
    "    PR_AUC_agg = 0\n",
    "    for x in range(repeat):\n",
    "        X_train, X_test, y_train, y_test = train_test_split(X, y, test_size=0.2, stratify=y)\n",
    "        InClf.fit(X_train.values, y_train)\n",
    "        y_pred = InClf.predict(X_test.values)\n",
    "\n",
    "        accuracy_agg = accuracy_agg + accuracy_score(y_test, y_pred)\n",
    "        f1_agg = f1_agg + f1_score(y_test, y_pred)\n",
    "        MCC_agg = MCC_agg + matthews_corrcoef(y_test, y_pred)\n",
    "        precision_auc, recall_auc, thresholds = precision_recall_curve(y_test, y_pred)\n",
    "        PR_AUC_agg = PR_AUC_agg + auc(recall_auc, precision_auc)\n",
    "        ROC_AUC_agg = ROC_AUC_agg + roc_auc_score(y_test, y_pred)\n",
    "        \n",
    "        CM = pd.DataFrame(confusion_matrix(y_test, y_pred))\n",
    "        TP_agg = TP_agg + CM[1][1] / (CM[1][1] + CM[0][1])\n",
    "        TN_agg = TN_agg + (CM[0][0]) / (CM[0][0] + CM[1][0])\n",
    "\n",
    "    print(\"MCC:\", MCC_agg/repeat)\n",
    "    print(\"F1 score:\", f1_agg/repeat)\n",
    "    print(\"Accuracy:\", accuracy_agg/repeat)\n",
    "    print(\"TP:\", TP_agg/repeat)\n",
    "    print(\"TN:\", TN_agg/repeat)\n",
    "    print(\"PR AUC:\", PR_AUC_agg/repeat)\n",
    "    print(\"ROC AUC\", ROC_AUC_agg/repeat)\n",
    "    print(\"\")\n",
    "    \n",
    "def run_tuned_model_alt_ROC(InClf):\n",
    "    accuracy_agg = 0\n",
    "    f1_agg = 0\n",
    "    MCC_agg = 0\n",
    "    TP_agg = 0\n",
    "    TN_agg = 0\n",
    "    ROC_AUC_agg = 0\n",
    "    PR_AUC_agg = 0\n",
    "    \n",
    "    SS = StandardScaler()\n",
    "    \n",
    "    for x in range(repeat):        \n",
    "        X_train, X_test, y_train, y_test = train_test_split(X, y, test_size=0.4, stratify=y)\n",
    "        X_test, X_validate, y_test, y_validate = train_test_split(X_test, y_test, test_size = .5, stratify=y_test)\n",
    "        SS.fit(X_train)\n",
    "        X_train = SS.transform(X_train)\n",
    "        X_test = SS.transform(X_test)\n",
    "        InClf.fit(X_train, y_train)\n",
    "        y_pred = InClf.predict(X_test)\n",
    "\n",
    "        accuracy_agg = accuracy_agg + accuracy_score(y_test, y_pred)\n",
    "        f1_agg = f1_agg + f1_score(y_test, y_pred)\n",
    "        MCC_agg = MCC_agg + matthews_corrcoef(y_test, y_pred)\n",
    "        precision_auc, recall_auc, thresholds = precision_recall_curve(y_test, y_pred)\n",
    "        PR_AUC_agg = PR_AUC_agg + auc(recall_auc, precision_auc)\n",
    "        ROC_AUC_agg = ROC_AUC_agg + roc_auc_score(y_test, y_pred)\n",
    "        CM = pd.DataFrame(confusion_matrix(y_test, y_pred))\n",
    "        TP_agg = TP_agg + CM[1][1] / (CM[1][1] + CM[0][1])\n",
    "        TN_agg = TN_agg + (CM[0][0]) / (CM[0][0] + CM[1][0])\n",
    "\n",
    "    print(\"MCC:\", MCC_agg/repeat)\n",
    "    print(\"F1 score:\", f1_agg/repeat)\n",
    "    print(\"Accuracy:\", accuracy_agg/repeat)\n",
    "    print(\"TP:\", TP_agg/repeat)\n",
    "    print(\"TN:\", TN_agg/repeat)\n",
    "    print(\"PR AUC:\", PR_AUC_agg/repeat)\n",
    "    print(\"ROC AUC\", ROC_AUC_agg/repeat)\n",
    "    print(\"\")"
   ]
  },
  {
   "cell_type": "code",
   "execution_count": 6,
   "id": "62105306",
   "metadata": {},
   "outputs": [
    {
     "name": "stdout",
     "output_type": "stream",
     "text": [
      "Random Forest\n",
      "MCC: 0.34718390067247407\n",
      "F1 score: 0.5093362320453401\n",
      "Accuracy: 0.7333333333333333\n",
      "TP: 0.44526315789473697\n",
      "TN: 0.8668292682926836\n",
      "PR AUC: 0.6186649127022377\n",
      "ROC AUC 0.7815789473684208\n",
      "\n",
      "Decision Tree\n",
      "MCC: 0.3777175721427944\n",
      "F1 score: 0.549488341661693\n",
      "Accuracy: 0.7391666666666664\n",
      "TP: 0.5115789473684209\n",
      "TN: 0.8446341463414635\n",
      "PR AUC: 0.6395334292900086\n",
      "ROC AUC 0.7489730423620025\n",
      "\n",
      "XGBoost\n",
      "MCC: 0.36825714638960766\n",
      "F1 score: 0.5309153568194875\n",
      "Accuracy: 0.7395\n",
      "TP: 0.47526315789473683\n",
      "TN: 0.8619512195121958\n",
      "PR AUC: 0.6326886851968123\n",
      "ROC AUC 0.7607445442875485\n",
      "\n",
      "Linear Regression\n",
      "MCC: 0.34636827512170115\n",
      "F1 score: 0.4901608747182551\n",
      "Accuracy: 0.7375\n",
      "TP: 0.40421052631578935\n",
      "TN: 0.8919512195121955\n",
      "PR AUC: 0.6184203405383744\n",
      "ROC AUC 0.6480808729139922\n",
      "\n",
      "One Rule\n",
      "MCC: -0.06656392722531351\n",
      "F1 score: 0.04039721872330568\n",
      "Accuracy: 0.6526666666666663\n",
      "TP: 0.024210526315789474\n",
      "TN: 0.9439024390243904\n",
      "PR AUC: 0.28623621553884754\n",
      "ROC AUC 0.48405648267008994\n",
      "\n",
      "One Rule - Decision Stump Substitution\n",
      "MCC: 0.2696532380030209\n",
      "F1 score: 0.40700838081258395\n",
      "Accuracy: 0.7123333333333335\n",
      "TP: 0.32526315789473664\n",
      "TN: 0.8917073170731711\n",
      "PR AUC: 0.574924216005872\n",
      "ROC AUC 0.6090179717586647\n",
      "\n",
      "Naive Bayes\n",
      "MCC: 0.24088911487622006\n",
      "F1 score: 0.3401225681685681\n",
      "Accuracy: 0.7120000000000001\n",
      "TP: 0.2442105263157894\n",
      "TN: 0.9287804878048782\n",
      "PR AUC: 0.5500485559761876\n",
      "ROC AUC 0.7348138639281129\n",
      "\n",
      "Artificial Neural Network\n",
      "MCC: 0.29593754604417566\n",
      "F1 score: 0.47664741086073725\n",
      "Accuracy: 0.7096666666666668\n",
      "TP: 0.4158684210526315\n",
      "TN: 0.8508475609756095\n",
      "PR AUC: 0.5917536077398694\n",
      "ROC AUC 0.7220342265725286\n",
      "\n",
      "SVC - Radial\n",
      "MCC: 0.2825523393215197\n",
      "F1 score: 0.5071141868194431\n",
      "Accuracy: 0.6870000000000002\n",
      "TP: 0.5026052631578949\n",
      "TN: 0.7761219512195124\n",
      "PR AUC: 0.5937162615004484\n",
      "ROC AUC 0.6393636071887037\n",
      "\n",
      "SVC - linear\n",
      "MCC: 0.33835278091802434\n",
      "F1 score: 0.4878757648620844\n",
      "Accuracy: 0.7293333333333334\n",
      "TP: 0.4077105263157895\n",
      "TN: 0.88425\n",
      "PR AUC: 0.6204745000478947\n",
      "ROC AUC 0.6459802631578948\n",
      "\n",
      "K-Nearest Neighbor\n",
      "MCC: 0.17618642005460283\n",
      "F1 score: 0.35444424414454234\n",
      "Accuracy: 0.6731666666666666\n",
      "TP: 0.27989473684210514\n",
      "TN: 0.8633292682926829\n",
      "PR AUC: 0.5109633295840726\n",
      "ROC AUC 0.6289231386392808\n",
      "\n"
     ]
    }
   ],
   "source": [
    "#Run all of the classifiers and create output metrics.\n",
    "print(\"Random Forest\")\n",
    "clf = RandomForestClassifier(n_jobs=-1)\n",
    "run_model(clf)\n",
    "\n",
    "print(\"Decision Tree\")\n",
    "clf = DecisionTreeClassifier(criterion='gini', min_samples_split=20, min_samples_leaf=int(round(20.0/3.0)), max_depth=30)\n",
    "run_model(clf)\n",
    "\n",
    "print(\"XGBoost\")\n",
    "clf = xgb.XGBClassifier(max_depth=2, num_round=2, nthread=2, eta=1)\n",
    "run_model(clf)\n",
    "\n",
    "print(\"Linear Regression\")\n",
    "clf = RidgeClassifier(alpha=0)\n",
    "run_model_alt_ROC(clf)\n",
    "\n",
    "print(\"One Rule\")\n",
    "clf = OneRClassifier()\n",
    "run_model_alt_ROC(clf)\n",
    "\n",
    "print(\"One Rule - Decision Stump Substitution\")\n",
    "clf = DecisionTreeClassifier(criterion='entropy', max_depth=1)\n",
    "run_model(clf)\n",
    "\n",
    "print(\"Naive Bayes\")\n",
    "clf = GaussianNB()\n",
    "run_model(clf)\n",
    "\n",
    "print(\"Artificial Neural Network\")\n",
    "clf = MLPClassifier(hidden_layer_sizes=(100))\n",
    "run_tuned_model(clf)\n",
    "\n",
    "print(\"SVC - Radial\")\n",
    "clf = SVC(C=10, kernel='rbf', cache_size=40)\n",
    "run_tuned_model_alt_ROC(clf)\n",
    "\n",
    "print(\"SVC - linear\")\n",
    "clf = LinearSVC(C=0.1)\n",
    "run_tuned_model_alt_ROC(clf)\n",
    "\n",
    "print(\"K-Nearest Neighbor\")\n",
    "clf = KNeighborsClassifier(n_jobs=-1, n_neighbors=3)\n",
    "run_tuned_model(clf)"
   ]
  },
  {
   "cell_type": "markdown",
   "id": "83864269",
   "metadata": {},
   "source": [
    "# Task 2:\n",
    "***\n",
    "***"
   ]
  },
  {
   "cell_type": "code",
   "execution_count": 7,
   "id": "4f917cb9",
   "metadata": {},
   "outputs": [],
   "source": [
    "#Import the csv into a pandas dataframe\n",
    "dataset = pd.read_csv(\"heart_failure_clinical_records_dataset.csv\", header=0)\n",
    "\n",
    "# X = dataset.drop(['DEATH_EVENT', 'diabetes', 'sex', 'high_blood_pressure', 'smoking'], axis=1)\n",
    "X = dataset.drop(['DEATH_EVENT'], axis=1)\n",
    "y = dataset['DEATH_EVENT']\n",
    "\n",
    "X_train, X_test, y_train, y_test = train_test_split(X, y, test_size=0.35, stratify=y)"
   ]
  },
  {
   "cell_type": "markdown",
   "id": "bd7f1b1a",
   "metadata": {},
   "source": [
    "##### Preliminary Data Analysis and Investigations\n",
    "***"
   ]
  },
  {
   "cell_type": "code",
   "execution_count": 8,
   "id": "3bdcc522",
   "metadata": {},
   "outputs": [
    {
     "name": "stdout",
     "output_type": "stream",
     "text": [
      "<class 'pandas.core.frame.DataFrame'>\n",
      "RangeIndex: 299 entries, 0 to 298\n",
      "Data columns (total 13 columns):\n",
      " #   Column                    Non-Null Count  Dtype  \n",
      "---  ------                    --------------  -----  \n",
      " 0   age                       299 non-null    float64\n",
      " 1   anaemia                   299 non-null    int64  \n",
      " 2   creatinine_phosphokinase  299 non-null    int64  \n",
      " 3   diabetes                  299 non-null    int64  \n",
      " 4   ejection_fraction         299 non-null    int64  \n",
      " 5   high_blood_pressure       299 non-null    int64  \n",
      " 6   platelets                 299 non-null    float64\n",
      " 7   serum_creatinine          299 non-null    float64\n",
      " 8   serum_sodium              299 non-null    int64  \n",
      " 9   sex                       299 non-null    int64  \n",
      " 10  smoking                   299 non-null    int64  \n",
      " 11  time                      299 non-null    int64  \n",
      " 12  DEATH_EVENT               299 non-null    int64  \n",
      "dtypes: float64(3), int64(10)\n",
      "memory usage: 30.5 KB\n"
     ]
    }
   ],
   "source": [
    "dataset.info()"
   ]
  },
  {
   "cell_type": "code",
   "execution_count": 9,
   "id": "b6e1e510",
   "metadata": {},
   "outputs": [
    {
     "data": {
      "text/html": [
       "<div>\n",
       "<style scoped>\n",
       "    .dataframe tbody tr th:only-of-type {\n",
       "        vertical-align: middle;\n",
       "    }\n",
       "\n",
       "    .dataframe tbody tr th {\n",
       "        vertical-align: top;\n",
       "    }\n",
       "\n",
       "    .dataframe thead th {\n",
       "        text-align: right;\n",
       "    }\n",
       "</style>\n",
       "<table border=\"1\" class=\"dataframe\">\n",
       "  <thead>\n",
       "    <tr style=\"text-align: right;\">\n",
       "      <th></th>\n",
       "      <th>age</th>\n",
       "      <th>anaemia</th>\n",
       "      <th>creatinine_phosphokinase</th>\n",
       "      <th>diabetes</th>\n",
       "      <th>ejection_fraction</th>\n",
       "      <th>high_blood_pressure</th>\n",
       "      <th>platelets</th>\n",
       "      <th>serum_creatinine</th>\n",
       "      <th>serum_sodium</th>\n",
       "      <th>sex</th>\n",
       "      <th>smoking</th>\n",
       "      <th>time</th>\n",
       "      <th>DEATH_EVENT</th>\n",
       "    </tr>\n",
       "  </thead>\n",
       "  <tbody>\n",
       "    <tr>\n",
       "      <th>count</th>\n",
       "      <td>299.000000</td>\n",
       "      <td>299.000000</td>\n",
       "      <td>299.000000</td>\n",
       "      <td>299.000000</td>\n",
       "      <td>299.000000</td>\n",
       "      <td>299.000000</td>\n",
       "      <td>299.000000</td>\n",
       "      <td>299.00000</td>\n",
       "      <td>299.000000</td>\n",
       "      <td>299.000000</td>\n",
       "      <td>299.00000</td>\n",
       "      <td>299.000000</td>\n",
       "      <td>299.00000</td>\n",
       "    </tr>\n",
       "    <tr>\n",
       "      <th>mean</th>\n",
       "      <td>60.833893</td>\n",
       "      <td>0.431438</td>\n",
       "      <td>581.839465</td>\n",
       "      <td>0.418060</td>\n",
       "      <td>38.083612</td>\n",
       "      <td>0.351171</td>\n",
       "      <td>263358.029264</td>\n",
       "      <td>1.39388</td>\n",
       "      <td>136.625418</td>\n",
       "      <td>0.648829</td>\n",
       "      <td>0.32107</td>\n",
       "      <td>130.260870</td>\n",
       "      <td>0.32107</td>\n",
       "    </tr>\n",
       "    <tr>\n",
       "      <th>std</th>\n",
       "      <td>11.894809</td>\n",
       "      <td>0.496107</td>\n",
       "      <td>970.287881</td>\n",
       "      <td>0.494067</td>\n",
       "      <td>11.834841</td>\n",
       "      <td>0.478136</td>\n",
       "      <td>97804.236869</td>\n",
       "      <td>1.03451</td>\n",
       "      <td>4.412477</td>\n",
       "      <td>0.478136</td>\n",
       "      <td>0.46767</td>\n",
       "      <td>77.614208</td>\n",
       "      <td>0.46767</td>\n",
       "    </tr>\n",
       "    <tr>\n",
       "      <th>min</th>\n",
       "      <td>40.000000</td>\n",
       "      <td>0.000000</td>\n",
       "      <td>23.000000</td>\n",
       "      <td>0.000000</td>\n",
       "      <td>14.000000</td>\n",
       "      <td>0.000000</td>\n",
       "      <td>25100.000000</td>\n",
       "      <td>0.50000</td>\n",
       "      <td>113.000000</td>\n",
       "      <td>0.000000</td>\n",
       "      <td>0.00000</td>\n",
       "      <td>4.000000</td>\n",
       "      <td>0.00000</td>\n",
       "    </tr>\n",
       "    <tr>\n",
       "      <th>25%</th>\n",
       "      <td>51.000000</td>\n",
       "      <td>0.000000</td>\n",
       "      <td>116.500000</td>\n",
       "      <td>0.000000</td>\n",
       "      <td>30.000000</td>\n",
       "      <td>0.000000</td>\n",
       "      <td>212500.000000</td>\n",
       "      <td>0.90000</td>\n",
       "      <td>134.000000</td>\n",
       "      <td>0.000000</td>\n",
       "      <td>0.00000</td>\n",
       "      <td>73.000000</td>\n",
       "      <td>0.00000</td>\n",
       "    </tr>\n",
       "    <tr>\n",
       "      <th>50%</th>\n",
       "      <td>60.000000</td>\n",
       "      <td>0.000000</td>\n",
       "      <td>250.000000</td>\n",
       "      <td>0.000000</td>\n",
       "      <td>38.000000</td>\n",
       "      <td>0.000000</td>\n",
       "      <td>262000.000000</td>\n",
       "      <td>1.10000</td>\n",
       "      <td>137.000000</td>\n",
       "      <td>1.000000</td>\n",
       "      <td>0.00000</td>\n",
       "      <td>115.000000</td>\n",
       "      <td>0.00000</td>\n",
       "    </tr>\n",
       "    <tr>\n",
       "      <th>75%</th>\n",
       "      <td>70.000000</td>\n",
       "      <td>1.000000</td>\n",
       "      <td>582.000000</td>\n",
       "      <td>1.000000</td>\n",
       "      <td>45.000000</td>\n",
       "      <td>1.000000</td>\n",
       "      <td>303500.000000</td>\n",
       "      <td>1.40000</td>\n",
       "      <td>140.000000</td>\n",
       "      <td>1.000000</td>\n",
       "      <td>1.00000</td>\n",
       "      <td>203.000000</td>\n",
       "      <td>1.00000</td>\n",
       "    </tr>\n",
       "    <tr>\n",
       "      <th>max</th>\n",
       "      <td>95.000000</td>\n",
       "      <td>1.000000</td>\n",
       "      <td>7861.000000</td>\n",
       "      <td>1.000000</td>\n",
       "      <td>80.000000</td>\n",
       "      <td>1.000000</td>\n",
       "      <td>850000.000000</td>\n",
       "      <td>9.40000</td>\n",
       "      <td>148.000000</td>\n",
       "      <td>1.000000</td>\n",
       "      <td>1.00000</td>\n",
       "      <td>285.000000</td>\n",
       "      <td>1.00000</td>\n",
       "    </tr>\n",
       "  </tbody>\n",
       "</table>\n",
       "</div>"
      ],
      "text/plain": [
       "              age     anaemia  creatinine_phosphokinase    diabetes  \\\n",
       "count  299.000000  299.000000                299.000000  299.000000   \n",
       "mean    60.833893    0.431438                581.839465    0.418060   \n",
       "std     11.894809    0.496107                970.287881    0.494067   \n",
       "min     40.000000    0.000000                 23.000000    0.000000   \n",
       "25%     51.000000    0.000000                116.500000    0.000000   \n",
       "50%     60.000000    0.000000                250.000000    0.000000   \n",
       "75%     70.000000    1.000000                582.000000    1.000000   \n",
       "max     95.000000    1.000000               7861.000000    1.000000   \n",
       "\n",
       "       ejection_fraction  high_blood_pressure      platelets  \\\n",
       "count         299.000000           299.000000     299.000000   \n",
       "mean           38.083612             0.351171  263358.029264   \n",
       "std            11.834841             0.478136   97804.236869   \n",
       "min            14.000000             0.000000   25100.000000   \n",
       "25%            30.000000             0.000000  212500.000000   \n",
       "50%            38.000000             0.000000  262000.000000   \n",
       "75%            45.000000             1.000000  303500.000000   \n",
       "max            80.000000             1.000000  850000.000000   \n",
       "\n",
       "       serum_creatinine  serum_sodium         sex    smoking        time  \\\n",
       "count         299.00000    299.000000  299.000000  299.00000  299.000000   \n",
       "mean            1.39388    136.625418    0.648829    0.32107  130.260870   \n",
       "std             1.03451      4.412477    0.478136    0.46767   77.614208   \n",
       "min             0.50000    113.000000    0.000000    0.00000    4.000000   \n",
       "25%             0.90000    134.000000    0.000000    0.00000   73.000000   \n",
       "50%             1.10000    137.000000    1.000000    0.00000  115.000000   \n",
       "75%             1.40000    140.000000    1.000000    1.00000  203.000000   \n",
       "max             9.40000    148.000000    1.000000    1.00000  285.000000   \n",
       "\n",
       "       DEATH_EVENT  \n",
       "count    299.00000  \n",
       "mean       0.32107  \n",
       "std        0.46767  \n",
       "min        0.00000  \n",
       "25%        0.00000  \n",
       "50%        0.00000  \n",
       "75%        1.00000  \n",
       "max        1.00000  "
      ]
     },
     "execution_count": 9,
     "metadata": {},
     "output_type": "execute_result"
    }
   ],
   "source": [
    "dataset.describe()"
   ]
  },
  {
   "cell_type": "code",
   "execution_count": 10,
   "id": "b5440a98",
   "metadata": {},
   "outputs": [
    {
     "data": {
      "image/png": "[encoded data removed]",
      "text/plain": [
       "<Figure size 864x720 with 2 Axes>"
      ]
     },
     "metadata": {
      "needs_background": "light"
     },
     "output_type": "display_data"
    }
   ],
   "source": [
    "#Check for correlations in features - visualisation\n",
    "plt.figure(figsize=(12, 10))\n",
    "heatmap = sns.heatmap(dataset.corr(), vmin=-1, vmax=1, annot=False, xticklabels = 1, yticklabels = 1)\n",
    "heatmap.set_title('Correlation Heatmap', fontdict={'fontsize':12}, pad=12)\n",
    "plt.show()"
   ]
  },
  {
   "cell_type": "code",
   "execution_count": 11,
   "id": "66a56715",
   "metadata": {},
   "outputs": [
    {
     "name": "stdout",
     "output_type": "stream",
     "text": [
      "DEATH_EVENT                 1.000000\n",
      "serum_creatinine            0.294278\n",
      "age                         0.253729\n",
      "high_blood_pressure         0.079351\n",
      "anaemia                     0.066270\n",
      "creatinine_phosphokinase    0.062728\n",
      "diabetes                   -0.001943\n",
      "sex                        -0.004316\n",
      "smoking                    -0.012623\n",
      "platelets                  -0.049139\n",
      "serum_sodium               -0.195204\n",
      "ejection_fraction          -0.268603\n",
      "time                       -0.526964\n",
      "Name: DEATH_EVENT, dtype: float64\n"
     ]
    }
   ],
   "source": [
    "#Check for correlations in the features\n",
    "corr_matrix = dataset.corr()\n",
    "print(corr_matrix[\"DEATH_EVENT\"].sort_values(ascending=False))"
   ]
  },
  {
   "cell_type": "code",
   "execution_count": 12,
   "id": "1cf8c39d",
   "metadata": {},
   "outputs": [
    {
     "name": "stdout",
     "output_type": "stream",
     "text": [
      "creatinine_phosphokinase\n",
      "Min outlier threshhold:  -581.75\n",
      "Max outlier threshhold:  1280.25\n",
      "Feature minimum:  23\n",
      "Feature maximum value:  7861\n",
      "\n",
      "serum_creatinine\n",
      "Min outlier threshhold:  0.15000000000000024\n",
      "Max outlier threshhold:  2.1499999999999995\n",
      "Feature minimum:  0.5\n",
      "Feature maximum value:  9.4\n",
      "\n",
      "platelets\n",
      "Min outlier threshhold:  76000.0\n",
      "Max outlier threshhold:  440000.0\n",
      "Feature minimum:  25100.0\n",
      "Feature maximum value:  850000.0\n",
      "\n",
      "age\n",
      "Min outlier threshhold:  22.5\n",
      "Max outlier threshhold:  98.5\n",
      "Feature minimum:  40.0\n",
      "Feature maximum value:  95.0\n",
      "\n",
      "serum_sodium\n",
      "Min outlier threshhold:  125.0\n",
      "Max outlier threshhold:  149.0\n",
      "Feature minimum:  113\n",
      "Feature maximum value:  148\n",
      "\n",
      "ejection_fraction\n",
      "Min outlier threshhold:  7.5\n",
      "Max outlier threshhold:  67.5\n",
      "Feature minimum:  14\n",
      "Feature maximum value:  80\n",
      "\n",
      "time\n",
      "Min outlier threshhold:  -122.0\n",
      "Max outlier threshhold:  398.0\n",
      "Feature minimum:  4\n",
      "Feature maximum value:  285\n",
      "\n"
     ]
    }
   ],
   "source": [
    "#Create a function to check outliers using IQR rule.\n",
    "def outlier(invar):\n",
    "    QT1 = dataset[invar].quantile(.25)\n",
    "    QT3 = dataset[invar].quantile(.75)\n",
    "    Feature_min = dataset[invar].min()\n",
    "    Feature_max = dataset[invar].max()\n",
    "    IQR = QT3 - QT1\n",
    "    Outlier_IQR = IQR * 1.5\n",
    "    outlier_min = QT1 - Outlier_IQR\n",
    "    outlier_max = QT3 + Outlier_IQR\n",
    "    print(invar)\n",
    "    print('Min outlier threshhold: ', outlier_min)\n",
    "    print('Max outlier threshhold: ', outlier_max)\n",
    "    print('Feature minimum: ', Feature_min)\n",
    "    print('Feature maximum value: ', Feature_max)\n",
    "    print(\"\")\n",
    "\n",
    "outlier('creatinine_phosphokinase')\n",
    "outlier('serum_creatinine')\n",
    "outlier('platelets')\n",
    "outlier('age')\n",
    "outlier('serum_sodium')\n",
    "outlier('ejection_fraction')\n",
    "outlier('time')"
   ]
  },
  {
   "cell_type": "code",
   "execution_count": 13,
   "id": "9edbf9e6",
   "metadata": {},
   "outputs": [
    {
     "data": {
      "text/plain": [
       "<AxesSubplot:xlabel='creatinine_phosphokinase', ylabel='Density'>"
      ]
     },
     "execution_count": 13,
     "metadata": {},
     "output_type": "execute_result"
    },
    {
     "data": {
      "image/png": "[encoded data removed]",
      "text/plain": [
       "<Figure size 432x288 with 1 Axes>"
      ]
     },
     "metadata": {
      "needs_background": "light"
     },
     "output_type": "display_data"
    }
   ],
   "source": [
    "sns.distplot(dataset['creatinine_phosphokinase'])"
   ]
  },
  {
   "cell_type": "code",
   "execution_count": 14,
   "id": "f40b464a",
   "metadata": {},
   "outputs": [
    {
     "data": {
      "text/plain": [
       "<AxesSubplot:xlabel='serum_creatinine', ylabel='Density'>"
      ]
     },
     "execution_count": 14,
     "metadata": {},
     "output_type": "execute_result"
    },
    {
     "data": {
      "image/png": "[encoded data removed]",
      "text/plain": [
       "<Figure size 432x288 with 1 Axes>"
      ]
     },
     "metadata": {
      "needs_background": "light"
     },
     "output_type": "display_data"
    }
   ],
   "source": [
    "sns.distplot(dataset['serum_creatinine'])"
   ]
  },
  {
   "cell_type": "code",
   "execution_count": 15,
   "id": "08f5498d",
   "metadata": {},
   "outputs": [
    {
     "data": {
      "text/plain": [
       "<AxesSubplot:xlabel='platelets', ylabel='Density'>"
      ]
     },
     "execution_count": 15,
     "metadata": {},
     "output_type": "execute_result"
    },
    {
     "data": {
      "image/png": "[encoded data removed]",
      "text/plain": [
       "<Figure size 432x288 with 1 Axes>"
      ]
     },
     "metadata": {
      "needs_background": "light"
     },
     "output_type": "display_data"
    }
   ],
   "source": [
    "sns.distplot(dataset['platelets'])"
   ]
  },
  {
   "cell_type": "code",
   "execution_count": 16,
   "id": "f1b22987",
   "metadata": {},
   "outputs": [
    {
     "data": {
      "text/plain": [
       "<AxesSubplot:xlabel='ejection_fraction', ylabel='Density'>"
      ]
     },
     "execution_count": 16,
     "metadata": {},
     "output_type": "execute_result"
    },
    {
     "data": {
      "image/png": "[encoded data removed]",
      "text/plain": [
       "<Figure size 432x288 with 1 Axes>"
      ]
     },
     "metadata": {
      "needs_background": "light"
     },
     "output_type": "display_data"
    }
   ],
   "source": [
    "sns.distplot(dataset['ejection_fraction'])"
   ]
  },
  {
   "cell_type": "code",
   "execution_count": 17,
   "id": "cd7c6fc1",
   "metadata": {},
   "outputs": [
    {
     "data": {
      "text/plain": [
       "<AxesSubplot:xlabel='age', ylabel='Density'>"
      ]
     },
     "execution_count": 17,
     "metadata": {},
     "output_type": "execute_result"
    },
    {
     "data": {
      "image/png": "[encoded data removed]",
      "text/plain": [
       "<Figure size 432x288 with 1 Axes>"
      ]
     },
     "metadata": {
      "needs_background": "light"
     },
     "output_type": "display_data"
    }
   ],
   "source": [
    "sns.distplot(dataset['age'])"
   ]
  },
  {
   "cell_type": "code",
   "execution_count": 18,
   "id": "1d4d357f",
   "metadata": {},
   "outputs": [
    {
     "data": {
      "text/plain": [
       "<AxesSubplot:xlabel='serum_sodium', ylabel='Density'>"
      ]
     },
     "execution_count": 18,
     "metadata": {},
     "output_type": "execute_result"
    },
    {
     "data": {
      "image/png": "[encoded data removed]",
      "text/plain": [
       "<Figure size 432x288 with 1 Axes>"
      ]
     },
     "metadata": {
      "needs_background": "light"
     },
     "output_type": "display_data"
    }
   ],
   "source": [
    "sns.distplot(dataset['serum_sodium'])"
   ]
  },
  {
   "cell_type": "code",
   "execution_count": 19,
   "id": "4e352988",
   "metadata": {},
   "outputs": [
    {
     "data": {
      "text/plain": [
       "<AxesSubplot:xlabel='serum_creatinine', ylabel='Density'>"
      ]
     },
     "execution_count": 19,
     "metadata": {},
     "output_type": "execute_result"
    },
    {
     "data": {
      "image/png": "[encoded data removed]",
      "text/plain": [
       "<Figure size 432x288 with 1 Axes>"
      ]
     },
     "metadata": {
      "needs_background": "light"
     },
     "output_type": "display_data"
    }
   ],
   "source": [
    "recip = 1/dataset['serum_creatinine']\n",
    "sns.distplot(recip)"
   ]
  },
  {
   "cell_type": "code",
   "execution_count": 20,
   "id": "4d17e336",
   "metadata": {},
   "outputs": [
    {
     "data": {
      "text/plain": [
       "<AxesSubplot:xlabel='creatinine_phosphokinase', ylabel='Density'>"
      ]
     },
     "execution_count": 20,
     "metadata": {},
     "output_type": "execute_result"
    },
    {
     "data": {
      "image/png": "[encoded data removed]",
      "text/plain": [
       "<Figure size 432x288 with 1 Axes>"
      ]
     },
     "metadata": {
      "needs_background": "light"
     },
     "output_type": "display_data"
    }
   ],
   "source": [
    "log_var = np.log(dataset['creatinine_phosphokinase'])\n",
    "sns.distplot(log_var)"
   ]
  },
  {
   "cell_type": "code",
   "execution_count": 21,
   "id": "0ad0f605",
   "metadata": {},
   "outputs": [],
   "source": [
    "#Create a version of serum creatinine that is a reciprocal\n",
    "dataset['serum_creatinine_recip'] = 1/dataset['serum_creatinine']"
   ]
  },
  {
   "cell_type": "markdown",
   "id": "14a2c185",
   "metadata": {},
   "source": [
    "##### Feature selection\n",
    "***"
   ]
  },
  {
   "cell_type": "code",
   "execution_count": 22,
   "id": "6a24efd1",
   "metadata": {},
   "outputs": [
    {
     "name": "stdout",
     "output_type": "stream",
     "text": [
      "[False False False  True False  True False  True False  True  True False]\n",
      "Index(['age', 'anaemia', 'creatinine_phosphokinase', 'diabetes',\n",
      "       'ejection_fraction', 'high_blood_pressure', 'platelets',\n",
      "       'serum_creatinine', 'serum_sodium', 'sex', 'smoking', 'time'],\n",
      "      dtype='object')\n"
     ]
    }
   ],
   "source": [
    "#Use recursive feature elimination to select features.\n",
    "#Use several different algorithms to help select the best supported features.\n",
    "\n",
    "#rfe = RFE(DecisionTreeClassifier(),n_features_to_select=5)\n",
    "#rfe = RFE(AdaBoostClassifier(),n_features_to_select=5)\n",
    "#rfe = RFE(LogisticRegression(),n_features_to_select=5)\n",
    "rfe = RFE(RidgeClassifier(),n_features_to_select=5)\n",
    "rfe.fit(X_train, y_train)\n",
    "print(rfe.get_support())\n",
    "print(X_train.columns)"
   ]
  },
  {
   "cell_type": "code",
   "execution_count": 23,
   "id": "2d433f3c",
   "metadata": {},
   "outputs": [],
   "source": [
    "#Different versions of the dataset to use in the Voting classifier.\n",
    "\n",
    "RFE_Features = ['time', 'age', 'serum_creatinine_recip', 'ejection_fraction', 'serum_sodium']\n",
    "Three_Features = ['time','ejection_fraction','serum_creatinine_recip']\n",
    "X_3 = dataset[Three_Features]\n",
    "X_RFE = dataset[RFE_Features]\n",
    "X_no_time = dataset.drop(['DEATH_EVENT', 'time', 'serum_creatinine_recip'], axis=1)\n",
    "X_all = dataset.drop(['DEATH_EVENT', 'serum_creatinine_recip'], axis=1)"
   ]
  },
  {
   "cell_type": "code",
   "execution_count": 24,
   "id": "c7d61e42",
   "metadata": {},
   "outputs": [],
   "source": [
    "#Create a function to do repeats of the chosen classifier. Input includes the classifier to be used,\n",
    "#the number of repeats to perform, and the dataset to classify.\n",
    "#This function will also use SMOTE to oversample the target class.\n",
    "smote = SMOTE()\n",
    "\n",
    "def run_smote_model(InClf, repeat, X_in):\n",
    "    accuracy_agg = 0\n",
    "    f1_agg = 0\n",
    "    MCC_agg = 0\n",
    "    TP_agg = 0\n",
    "    TN_agg = 0\n",
    "    ROC_AUC_agg = 0\n",
    "    PR_AUC_agg = 0\n",
    "    for x in range(repeat):\n",
    "        X_train, X_test, y_train, y_test = train_test_split(X_in, y, test_size=0.35, stratify=y)\n",
    "        \n",
    "        X_train_smote, y_train_smote = smote.fit_sample(X_train, y_train)\n",
    "\n",
    "        InClf.fit(X_train_smote.values, y_train_smote)\n",
    "        y_pred = InClf.predict(X_test.values)\n",
    "\n",
    "        accuracy_agg = accuracy_agg + accuracy_score(y_test, y_pred)\n",
    "        f1_agg = f1_agg + f1_score(y_test, y_pred)\n",
    "        MCC_agg = MCC_agg + matthews_corrcoef(y_test, y_pred)\n",
    "        precision_auc, recall_auc, thresholds = precision_recall_curve(y_test, y_pred)\n",
    "        PR_AUC_agg = PR_AUC_agg + auc(recall_auc, precision_auc)\n",
    "        y_roc = InClf.predict_proba(X_test.values)\n",
    "        y_roc = y_roc[:,1]\n",
    "        ROC_AUC_agg = ROC_AUC_agg + roc_auc_score(y_test, y_roc)\n",
    "        \n",
    "        CM = pd.DataFrame(confusion_matrix(y_test, y_pred))\n",
    "        TP_agg = TP_agg + CM[1][1] / (CM[1][1] + CM[0][1])\n",
    "        TN_agg = TN_agg + (CM[0][0]) / (CM[0][0] + CM[1][0])\n",
    "\n",
    "    print(\"MCC:\", MCC_agg/repeat)\n",
    "    print(\"F1 score:\", f1_agg/repeat)\n",
    "    print(\"Accuracy:\", accuracy_agg/repeat)\n",
    "    print(\"TP:\", TP_agg/repeat)\n",
    "    print(\"TN:\", TN_agg/repeat)\n",
    "    print(\"PR AUC:\", PR_AUC_agg/repeat)\n",
    "    print(\"ROC AUC\", ROC_AUC_agg/repeat)\n",
    "    print(\"\")"
   ]
  },
  {
   "cell_type": "markdown",
   "id": "bc224aba",
   "metadata": {},
   "source": [
    "##### Hyperparameter tuning\n",
    "***"
   ]
  },
  {
   "cell_type": "code",
   "execution_count": 25,
   "id": "d7aa4b26",
   "metadata": {},
   "outputs": [
    {
     "name": "stdout",
     "output_type": "stream",
     "text": [
      "Fitting 5 folds for each of 792 candidates, totalling 3960 fits\n"
     ]
    },
    {
     "data": {
      "text/plain": [
       "{'n_estimators': 45, 'min_samples_split': 5, 'max_depth': 15}"
      ]
     },
     "execution_count": 25,
     "metadata": {},
     "output_type": "execute_result"
    }
   ],
   "source": [
    "#random forest\n",
    "clf_object = RandomForestClassifier()\n",
    "\n",
    "clf_parameters_tested = { 'n_estimators': [25,30,35,40,45,50,55,60],\n",
    "                         'max_depth': [1,2,5,7,10,15,20,25,30,35,40],\n",
    "                         'min_samples_split': [2,3,4,5,6,7,8,9,10]\n",
    "}\n",
    "\n",
    "clf = RandomizedSearchCV(clf_object, clf_parameters_tested, random_state=0, n_jobs=-1,\n",
    "                         verbose=10, cv=5, n_iter=2000, scoring='roc_auc')\n",
    "search = clf.fit(X_train, y_train)\n",
    "search.best_params_"
   ]
  },
  {
   "cell_type": "code",
   "execution_count": 26,
   "id": "8a895a73",
   "metadata": {},
   "outputs": [
    {
     "name": "stdout",
     "output_type": "stream",
     "text": [
      "Fitting 5 folds for each of 476 candidates, totalling 2380 fits\n"
     ]
    },
    {
     "data": {
      "text/plain": [
       "{'n_estimators': 25,\n",
       " 'learning_rate': 0.1,\n",
       " 'base_estimator': DecisionTreeClassifier(max_depth=30, min_samples_leaf=7, min_samples_split=20)}"
      ]
     },
     "execution_count": 26,
     "metadata": {},
     "output_type": "execute_result"
    }
   ],
   "source": [
    "#adaptive boost\n",
    "clf_object = AdaBoostClassifier(algorithm='SAMME')\n",
    "\n",
    "clf_parameters_tested = { 'n_estimators': [5,10,12,13,14,15,16,17,18,20,25,30,35,40,50,75,100],\n",
    "                         'learning_rate': [0.1, 0.25, 0.5, 0.75, 1, 1.5, 2],\n",
    "                         'base_estimator': [DecisionTreeClassifier(criterion='gini', min_samples_split=20, min_samples_leaf=int(round(20.0/3.0)), max_depth=30),\n",
    "                                           DecisionTreeClassifier(),\n",
    "                                           DecisionTreeClassifier(criterion='entropy', max_depth=1),\n",
    "                                           GaussianNB()]\n",
    "}\n",
    "\n",
    "clf = RandomizedSearchCV(clf_object, clf_parameters_tested, random_state=0, n_jobs=-1,\n",
    "                         verbose=10, cv=5, n_iter=2000, scoring='roc_auc')\n",
    "search = clf.fit(X_train, y_train)\n",
    "search.best_params_"
   ]
  },
  {
   "cell_type": "code",
   "execution_count": 27,
   "id": "36658dfd",
   "metadata": {},
   "outputs": [
    {
     "name": "stdout",
     "output_type": "stream",
     "text": [
      "Fitting 5 folds for each of 1440 candidates, totalling 7200 fits\n"
     ]
    },
    {
     "data": {
      "text/plain": [
       "{'n_estimators': 30,\n",
       " 'min_samples_split': 2,\n",
       " 'max_depth': 2,\n",
       " 'learning_rate': 0.1}"
      ]
     },
     "execution_count": 27,
     "metadata": {},
     "output_type": "execute_result"
    }
   ],
   "source": [
    "#gradient boost\n",
    "clf_object = GradientBoostingClassifier()\n",
    "\n",
    "clf_parameters_tested = {'learning_rate': [.001, .01, .1, 1, 10], \n",
    "                         'n_estimators': [30,45,60,100],\n",
    "                         'max_depth': [1,2,5,7,10,20,30,40],\n",
    "                         'min_samples_split': [2,3,4,5,6,7,8,9,10]\n",
    "}\n",
    "\n",
    "clf = RandomizedSearchCV(clf_object, clf_parameters_tested, random_state=0, n_jobs=-1,\n",
    "                         verbose=10, cv=5, n_iter=2000, scoring='roc_auc')\n",
    "search = clf.fit(X_train, y_train)\n",
    "search.best_params_"
   ]
  },
  {
   "cell_type": "code",
   "execution_count": 28,
   "id": "1ed1c9e3",
   "metadata": {},
   "outputs": [
    {
     "name": "stdout",
     "output_type": "stream",
     "text": [
      "Fitting 5 folds for each of 2000 candidates, totalling 10000 fits\n",
      "[LightGBM] [Warning] Accuracy may be bad since you didn't explicitly set num_leaves OR 2^max_depth > num_leaves. (num_leaves=31).\n"
     ]
    },
    {
     "data": {
      "text/plain": [
       "{'reg_lambda': 1,\n",
       " 'reg_alpha': 0.001,\n",
       " 'n_estimators': 100,\n",
       " 'max_depth': 40,\n",
       " 'learning_rate': 0.1}"
      ]
     },
     "execution_count": 28,
     "metadata": {},
     "output_type": "execute_result"
    }
   ],
   "source": [
    "#lightboost\n",
    "clf_object = LGBMClassifier()\n",
    "\n",
    "clf_parameters_tested = {'learning_rate': [.001, .01, .1, 1, 10], \n",
    "                         'n_estimators': [50,100,200,300,400,500,900],\n",
    "                         'max_depth': [1,2,5,7,10,20,30,40],\n",
    "                         'reg_alpha': [.001, .01, .1, 1, 10],\n",
    "                         'reg_lambda': [.001, .01, .1, 1, 10]\n",
    "}\n",
    "\n",
    "clf = RandomizedSearchCV(clf_object, clf_parameters_tested, random_state=0, n_jobs=-1,\n",
    "                         verbose=10, cv=5, n_iter=2000, scoring='roc_auc')\n",
    "search = clf.fit(X_train, y_train)\n",
    "search.best_params_"
   ]
  },
  {
   "cell_type": "code",
   "execution_count": 29,
   "id": "c0c83db8",
   "metadata": {},
   "outputs": [
    {
     "name": "stdout",
     "output_type": "stream",
     "text": [
      "Fitting 5 folds for each of 2000 candidates, totalling 10000 fits\n"
     ]
    },
    {
     "data": {
      "text/plain": [
       "{'n_estimators': 18,\n",
       " 'max_samples': 0.75,\n",
       " 'max_features': 0.75,\n",
       " 'base_estimator': DecisionTreeClassifier(max_depth=30, min_samples_leaf=7, min_samples_split=20)}"
      ]
     },
     "execution_count": 29,
     "metadata": {},
     "output_type": "execute_result"
    }
   ],
   "source": [
    "#bagging\n",
    "\n",
    "clf_object = BaggingClassifier(n_jobs=-1)\n",
    "\n",
    "clf_parameters_tested = {'n_estimators': [5,10,12,13,14,15,16,17,18,20,25,30,35,40,50,75,100],\n",
    "                         'max_samples': [0.1, 0.25, 0.5, 0.75, 1, 1.5, 2],\n",
    "                         'max_features': [0.1, 0.25, 0.5, 0.75, 1, 1.5, 2],\n",
    "                         'base_estimator': [DecisionTreeClassifier(criterion='gini', min_samples_split=20, min_samples_leaf=int(round(20.0/3.0)), max_depth=30),\n",
    "                                           DecisionTreeClassifier(),\n",
    "                                           DecisionTreeClassifier(criterion='entropy', max_depth=1),\n",
    "                                           GaussianNB()]\n",
    "}\n",
    "\n",
    "clf = RandomizedSearchCV(clf_object, clf_parameters_tested, random_state=0, n_jobs=-1,\n",
    "                         verbose=10, cv=5, n_iter=2000, scoring='roc_auc')\n",
    "search = clf.fit(X_train, y_train)\n",
    "search.best_params_"
   ]
  },
  {
   "cell_type": "code",
   "execution_count": 30,
   "id": "2f751918",
   "metadata": {},
   "outputs": [
    {
     "name": "stdout",
     "output_type": "stream",
     "text": [
      "Fitting 5 folds for each of 144 candidates, totalling 720 fits\n"
     ]
    },
    {
     "data": {
      "text/plain": [
       "{'tol': 1e-05, 'penalty': 'l2', 'C': 0.001}"
      ]
     },
     "execution_count": 30,
     "metadata": {},
     "output_type": "execute_result"
    }
   ],
   "source": [
    "#Logistic Regression classifier\n",
    "\n",
    "clf_object = LogisticRegression()\n",
    "\n",
    "clf_parameters_tested = {'penalty': ['l1', 'l2', 'elasticnet', 'none'],\n",
    "                         'C': [.001, .01, .1, 1, 2, 5],\n",
    "                         'tol': [.00001, .0001, .001, .01, .1, 1]\n",
    "}\n",
    "\n",
    "clf = RandomizedSearchCV(clf_object, clf_parameters_tested, random_state=0, n_jobs=-1,\n",
    "                         verbose=10, cv=5, n_iter=2000, scoring='roc_auc')\n",
    "search = clf.fit(X_train, y_train)\n",
    "search.best_params_"
   ]
  },
  {
   "cell_type": "code",
   "execution_count": 31,
   "id": "b3cbdd0f",
   "metadata": {},
   "outputs": [
    {
     "name": "stdout",
     "output_type": "stream",
     "text": [
      "Fitting 5 folds for each of 1980 candidates, totalling 9900 fits\n"
     ]
    },
    {
     "data": {
      "text/plain": [
       "{'p': 1, 'n_neighbors': 7, 'leaf_size': 2, 'algorithm': 'auto'}"
      ]
     },
     "execution_count": 31,
     "metadata": {},
     "output_type": "execute_result"
    }
   ],
   "source": [
    "#K-nearest neighbors classifier\n",
    "\n",
    "clf_object = KNeighborsClassifier()\n",
    "\n",
    "clf_parameters_tested = { 'leaf_size': [2,3,4,5,10,15,20,25,30,40,50],\n",
    "                    'n_neighbors': [2,3,4,5,6,7,8,9,10],\n",
    "                    'p': [1,2,3,4,5],\n",
    "                    'algorithm': ['auto', 'ball_tree', 'kd_tree', 'brute']}\n",
    "\n",
    "clf = RandomizedSearchCV(clf_object, clf_parameters_tested, random_state=0, n_jobs=-1,\n",
    "                         verbose=10, cv=5, n_iter=2000, scoring='roc_auc')\n",
    "search = clf.fit(X_train, y_train)\n",
    "search.best_params_"
   ]
  },
  {
   "cell_type": "markdown",
   "id": "aa5d8d0f",
   "metadata": {},
   "source": [
    "##### Classifier creation and scoring\n",
    "***"
   ]
  },
  {
   "cell_type": "code",
   "execution_count": 32,
   "id": "9c64ce11",
   "metadata": {},
   "outputs": [],
   "source": [
    "#Create a bunch of classifiers to use in the Voting ensemble.\n",
    "\n",
    "# clf1 = RandomForestClassifier(n_estimators=55, min_samples_split=8, max_depth=5)\n",
    "clf1 = RandomForestClassifier()\n",
    "\n",
    "# clf2 = GradientBoostingClassifier(n_estimators=100, min_samples_split=6, max_depth=30, learning_rate=1)\n",
    "clf2 = GradientBoostingClassifier()\n",
    "\n",
    "# clf3 = XGBClassifier(verbosity=0, booster='dart')\n",
    "clf3 = xgb.XGBClassifier(max_depth=2, num_round=2, nthread=2, eta=1)\n",
    "\n",
    "clf4 = LGBMClassifier(max_depth= 20,reg_alpha=0.1, reg_lambda=0.1,learning_rate= 0.01, n_estimators=500, num_leaves=40)\n",
    "# clf4 = LGBMClassifier()\n",
    "\n",
    "clf5 = AdaBoostClassifier(learning_rate = .5, n_estimators=17, base_estimator = DecisionTreeClassifier(max_depth=30, min_samples_leaf=7, min_samples_split=20))\n",
    "\n",
    "clf6 = BaggingClassifier(n_estimators = 18, max_samples=0.75, max_features=0.75, base_estimator=DecisionTreeClassifier(max_depth=30, min_samples_leaf=7, min_samples_split=20))\n",
    "\n",
    "clf7 = LogisticRegression(C=.1, tol=0.00001)\n",
    "\n",
    "clf8 = GaussianNB()\n",
    "\n",
    "clf9 = KNeighborsClassifier(n_jobs=-1, n_neighbors=2, leaf_size=2, p=1)\n",
    "\n",
    "clf10 = DecisionTreeClassifier()"
   ]
  },
  {
   "cell_type": "code",
   "execution_count": 33,
   "id": "c6385057",
   "metadata": {},
   "outputs": [],
   "source": [
    "#Create two versions of the voting classifier.\n",
    "\n",
    "clf_7_models = VotingClassifier(estimators=[\n",
    "('rf', clf1)\n",
    "#, ('GB', clf2)\n",
    ", ('XGB', clf3)\n",
    ", ('LGBM', clf4)\n",
    ", ('Bag',clf6)\n",
    ", ('LR', clf7)\n",
    ", ('NB', clf8)\n",
    ", ('KNN', clf9)\n",
    "],voting='soft')\n",
    "\n",
    "clf_5_models = VotingClassifier(estimators=[\n",
    "('rf', clf1)\n",
    "#, ('GB', clf2)\n",
    ", ('XGB', clf3)\n",
    ", ('LGBM', clf4)\n",
    ", ('Bag',clf6)\n",
    ", ('LR', clf7)\n",
    "# , ('NB', clf8)\n",
    "# , ('KNN', clf9)\n",
    "],voting='soft')"
   ]
  },
  {
   "cell_type": "code",
   "execution_count": 34,
   "id": "beac31aa",
   "metadata": {},
   "outputs": [
    {
     "name": "stdout",
     "output_type": "stream",
     "text": [
      "Results for the three-features dataset.\n",
      "MCC: 0.6712849440637376\n",
      "F1 score: 0.7775223757188683\n",
      "Accuracy: 0.8532380952380944\n",
      "TP: 0.795\n",
      "TN: 0.8811267605633804\n",
      "PR AUC: 0.8136659485635664\n",
      "ROC AUC 0.9122825186412594\n",
      "\n",
      "\n",
      "Results for the five-feature RFE feature set.\n",
      "MCC: 0.657201962438725\n",
      "F1 score: 0.769571427316601\n",
      "Accuracy: 0.8448571428571421\n",
      "TP: 0.8026470588235297\n",
      "TN: 0.8650704225352118\n",
      "PR AUC: 0.8054231911466365\n",
      "ROC AUC 0.909047224523612\n",
      "\n",
      "\n",
      "Results for the full datset including the time feature.\n",
      "MCC: 0.6491693701165997\n",
      "F1 score: 0.7630226870608664\n",
      "Accuracy: 0.8436190476190472\n",
      "TP: 0.7788235294117648\n",
      "TN: 0.874647887323944\n",
      "PR AUC: 0.8014036179666327\n",
      "ROC AUC 0.9127879038939519\n",
      "\n",
      "\n",
      "Results for the exact dataset used to generate Table 4.\n",
      "MCC: 0.41202918767626456\n",
      "F1 score: 0.6060729434919011\n",
      "Accuracy: 0.7365714285714285\n",
      "TP: 0.6285294117647058\n",
      "TN: 0.7883098591549295\n",
      "PR AUC: 0.6698000950937061\n",
      "ROC AUC 0.7762386081193039\n",
      "\n"
     ]
    }
   ],
   "source": [
    "#Run models and print results.\n",
    "\n",
    "print(\"Results for the three-features dataset.\")\n",
    "run_smote_model(clf_7_models, 100, X_3)\n",
    "print(\"\")\n",
    "print(\"Results for the five-feature RFE feature set.\")\n",
    "run_smote_model(clf_7_models, 100, X_RFE)\n",
    "print(\"\")\n",
    "print(\"Results for the full datset including the time feature.\")\n",
    "run_smote_model(clf_5_models, 100, X_all)\n",
    "print(\"\")\n",
    "print(\"Results for the exact dataset used to generate Table 4.\")\n",
    "run_smote_model(clf_5_models, 100, X_no_time)"
   ]
  },
  {
   "cell_type": "code",
   "execution_count": 35,
   "id": "2d800280",
   "metadata": {},
   "outputs": [
    {
     "name": "stdout",
     "output_type": "stream",
     "text": [
      "MCC: 0.5842864885147984\n",
      "F1 score: 0.7206782437374122\n",
      "Accuracy: 0.8125714285714284\n",
      "TP: 0.7476470588235296\n",
      "TN: 0.8436619718309859\n",
      "PR AUC: 0.7656427228808002\n",
      "ROC AUC 0.8659299917149959\n",
      "\n"
     ]
    }
   ],
   "source": [
    "#Attempt to replicate other researcher's results:\n",
    "\n",
    "clf = StackingClassifier(estimators=[\n",
    "('rf', clf2) \n",
    ", ('XGB', clf3)\n",
    ", ('DT', clf10)\n",
    "], final_estimator = clf1)\n",
    "\n",
    "run_smote_model(clf, 100, X_RFE)"
   ]
  },
  {
   "cell_type": "code",
   "execution_count": null,
   "id": "188e6888",
   "metadata": {},
   "outputs": [],
   "source": []
  }
 ],
 "metadata": {
  "kernelspec": {
   "display_name": "Python 3",
   "language": "python",
   "name": "python3"
  },
  "language_info": {
   "codemirror_mode": {
    "name": "ipython",
    "version": 3
   },
   "file_extension": ".py",
   "mimetype": "text/x-python",
   "name": "python",
   "nbconvert_exporter": "python",
   "pygments_lexer": "ipython3",
   "version": "3.7.11"
  }
 },
 "nbformat": 4,
 "nbformat_minor": 5
}
